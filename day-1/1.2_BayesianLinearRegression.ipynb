{
  "cells": [
    {
      "cell_type": "markdown",
      "metadata": {
        "id": "CSD8zBLoOjNy"
      },
      "source": [
        "# **Bayesian linear regression using Importance Sampling**\n",
        "\n",
        "We formulate the linear regression problem from a Bayesian point of view and estimate the parameters using Importance sampling.\n",
        "\n",
        "*   The goal is to fit a linear model $\\hat{y} = w_0 + w_1 x$.\n",
        "*   We assume prior distributions on $w_0$ and $w_1$ and will obtain the posteriors using importance sampling.\n",
        "*   The parameters will be estimated using the expectation of the posterior distributions."
      ]
    },
    {
      "cell_type": "code",
      "execution_count": null,
      "metadata": {
        "id": "XG1C4Zs5Nlgx"
      },
      "outputs": [],
      "source": [
        "import numpy as np\n",
        "import matplotlib.pyplot as plt\n",
        "from scipy.stats import norm\n",
        "# Simulated data. x is randomly distributed between 0 and 3 and y is a linear model\n",
        "N = 50 # number of data items\n",
        "x = np.random.uniform(0, 3, N)\n",
        "y = 3 * x + 1 + np.random.normal(0, 1, N)"
      ]
    },
    {
      "cell_type": "markdown",
      "metadata": {
        "id": "bOmXKW9QmIHs"
      },
      "source": [
        "\n",
        "\n",
        "*   The prior distribution on $w_0$ will be a ${\\cal N}(\\mu_0,\\sigma_0)$, with $\\mu_0=a_0$ and $\\sigma_0=b_0$.\n",
        "*   The prior distribution on $w_1$ will be a ${\\cal N}(\\mu_1,\\sigma_1)$, with $\\mu_1=a_1$ and $\\sigma_1=b_1$."
      ]
    },
    {
      "cell_type": "code",
      "execution_count": null,
      "metadata": {
        "id": "xTQxiOzKPuLG"
      },
      "outputs": [],
      "source": [
        "# Prior distributions\n",
        "a0 = 0\n",
        "b0 = 1\n",
        "a1 = 0\n",
        "b1 = 1"
      ]
    },
    {
      "cell_type": "code",
      "execution_count": null,
      "metadata": {
        "colab": {
          "base_uri": "https://localhost:8080/"
        },
        "collapsed": true,
        "id": "rcGRSyWZP6GA",
        "outputId": "b6a69a47-983f-4375-964f-6aebeb3bf5e2"
      },
      "outputs": [
        {
          "name": "stdout",
          "output_type": "stream",
          "text": [
            "Data item no.: 1\n",
            "a0=0.28351237364828913 ; b0=0.9816719911327274\n",
            "a1=1.1352336225910016 ; b1=0.9679694952119329\n",
            "Data item no.: 2\n",
            "a0=0.491711896923803 ; b0=0.961653175377242\n",
            "a1=1.8889829663774313 ; b1=0.7705875866828912\n",
            "Data item no.: 3\n",
            "a0=0.4582050446447458 ; b0=0.7381790876455221\n",
            "a1=2.091181047154946 ; b1=0.6561354741302591\n",
            "Data item no.: 4\n",
            "a0=0.8283348869444506 ; b0=0.6616747928497675\n",
            "a1=2.3495643709279292 ; b1=0.4695530781163394\n",
            "Data item no.: 5\n",
            "a0=0.8675077385345222 ; b0=0.6499665992366358\n",
            "a1=2.5223396336237 ; b1=0.4161559732838951\n",
            "Data item no.: 6\n",
            "a0=0.7907190034444699 ; b0=0.7503385200757466\n",
            "a1=2.3846318082980753 ; b1=0.3358317837281176\n",
            "Data item no.: 7\n",
            "a0=0.839335160702984 ; b0=0.850263346904443\n",
            "a1=2.5031841562815624 ; b1=0.40987990226923604\n",
            "Data item no.: 8\n",
            "a0=0.9447024682243294 ; b0=0.9597405009787692\n",
            "a1=2.4950759335935446 ; b1=0.3412513735056507\n",
            "Data item no.: 9\n",
            "a0=1.2718272440815348 ; b0=0.8725890174471118\n",
            "a1=2.5528860323436846 ; b1=0.29777388694783974\n",
            "Data item no.: 10\n",
            "a0=1.8987870309507742 ; b0=0.8553465359316835\n",
            "a1=2.5566290016343025 ; b1=0.20602892693496147\n",
            "Data item no.: 11\n",
            "a0=1.7852912007769741 ; b0=0.7989097040056514\n",
            "a1=2.5622310578462613 ; b1=0.1783285590002606\n",
            "Data item no.: 12\n",
            "a0=1.793728768514905 ; b0=0.5097232459318064\n",
            "a1=2.5262390509062174 ; b1=0.1923624282247917\n",
            "Data item no.: 13\n",
            "a0=1.8069270094185144 ; b0=0.4573998487689064\n",
            "a1=2.4080988091113036 ; b1=0.18482330307608272\n",
            "Data item no.: 14\n",
            "a0=1.9189566659502977 ; b0=0.40693162399069654\n",
            "a1=2.3427559090722174 ; b1=0.1955337911815385\n",
            "Data item no.: 15\n",
            "a0=1.9858958855100577 ; b0=0.35293349912378275\n",
            "a1=2.361731747665739 ; b1=0.1925524732733206\n",
            "Data item no.: 16\n",
            "a0=2.250706243263035 ; b0=0.4075160920753775\n",
            "a1=2.4713751924613723 ; b1=0.1554797093502533\n",
            "Data item no.: 17\n",
            "a0=2.1270073670594885 ; b0=0.3564394473324805\n",
            "a1=2.4309860528049407 ; b1=0.12993220751557827\n",
            "Data item no.: 18\n",
            "a0=2.185343747176356 ; b0=0.3253746913234346\n",
            "a1=2.489422447716814 ; b1=0.11352888344099009\n",
            "Data item no.: 19\n",
            "a0=2.1071916236327755 ; b0=0.31158731481582247\n",
            "a1=2.4478978895893313 ; b1=0.1158019488078542\n",
            "Data item no.: 20\n",
            "a0=2.133017140641051 ; b0=0.2376067309246109\n",
            "a1=2.4595454015523894 ; b1=0.11275589866787426\n",
            "Data item no.: 21\n",
            "a0=2.1071084982480364 ; b0=0.20862820713297894\n",
            "a1=2.504346435211711 ; b1=0.09369642088235508\n",
            "Data item no.: 22\n",
            "a0=2.020502184464872 ; b0=0.2032341383238964\n",
            "a1=2.4893932332010418 ; b1=0.1041825115056734\n",
            "Data item no.: 23\n",
            "a0=1.9757347042058566 ; b0=0.181841554151579\n",
            "a1=2.4950277322304544 ; b1=0.0953384857970635\n",
            "Data item no.: 24\n",
            "a0=1.9523646395494116 ; b0=0.2034356484667504\n",
            "a1=2.495625271631526 ; b1=0.08557303592437192\n",
            "Data item no.: 25\n",
            "a0=1.9498572381853283 ; b0=0.15693117038520385\n",
            "a1=2.4911898252204483 ; b1=0.07448871041579726\n",
            "Data item no.: 26\n",
            "a0=1.8990934006506166 ; b0=0.13340520422981503\n",
            "a1=2.4933392755053014 ; b1=0.07459935791080924\n",
            "Data item no.: 27\n",
            "a0=1.9219885943079307 ; b0=0.1302928471017138\n",
            "a1=2.4935827375409487 ; b1=0.057628557785568364\n",
            "Data item no.: 28\n",
            "a0=1.9051109721395418 ; b0=0.13137022778687493\n",
            "a1=2.502119630634745 ; b1=0.06673235567001572\n",
            "Data item no.: 29\n",
            "a0=1.943187284354773 ; b0=0.13101878878436998\n",
            "a1=2.4830855156015534 ; b1=0.07991041196418439\n",
            "Data item no.: 30\n",
            "a0=1.9480984774968262 ; b0=0.12067309948145327\n",
            "a1=2.465793656991084 ; b1=0.08746743187217532\n",
            "Data item no.: 31\n",
            "a0=1.9522130490973704 ; b0=0.11124579294930008\n",
            "a1=2.431067969649051 ; b1=0.09259392780963502\n",
            "Data item no.: 32\n",
            "a0=1.916630776904239 ; b0=0.08891681186423585\n",
            "a1=2.4444530361482073 ; b1=0.10029202103748869\n",
            "Data item no.: 33\n",
            "a0=1.9063253189996994 ; b0=0.05264577792804487\n",
            "a1=2.443332941823309 ; b1=0.08959181786593914\n",
            "Data item no.: 34\n",
            "a0=1.8929676833932054 ; b0=0.05339520829519507\n",
            "a1=2.450716331312276 ; b1=0.08935411785475389\n",
            "Data item no.: 35\n",
            "a0=1.8797403050471468 ; b0=0.053319488805231616\n",
            "a1=2.4471011161832923 ; b1=0.07915713915577742\n",
            "Data item no.: 36\n",
            "a0=1.8865656582348742 ; b0=0.05412060523074724\n",
            "a1=2.459968545925828 ; b1=0.06880073480267695\n",
            "Data item no.: 37\n",
            "a0=1.8922877392182165 ; b0=0.04781836707237812\n",
            "a1=2.471632956133907 ; b1=0.059922096259964974\n",
            "Data item no.: 38\n",
            "a0=1.8991981781275813 ; b0=0.05636208299127569\n",
            "a1=2.471945880541379 ; b1=0.07460624002046683\n",
            "Data item no.: 39\n",
            "a0=1.8980429717443688 ; b0=0.051256477345115896\n",
            "a1=2.475155454679632 ; b1=0.08404506651689886\n",
            "Data item no.: 40\n",
            "a0=1.89915495570791 ; b0=0.045686965455446\n",
            "a1=2.47923436374468 ; b1=0.0863780556313064\n",
            "Data item no.: 41\n",
            "a0=1.8907760331225623 ; b0=0.03773510550388731\n",
            "a1=2.5156543032335876 ; b1=0.07804980270667737\n",
            "Data item no.: 42\n",
            "a0=1.8981908616019962 ; b0=0.03196931194656072\n",
            "a1=2.528584975130952 ; b1=0.06602173013838106\n",
            "Data item no.: 43\n",
            "a0=1.8936462477231546 ; b0=0.028200853135308606\n",
            "a1=2.5435442651018554 ; b1=0.06795357712868809\n",
            "Data item no.: 44\n",
            "a0=1.884327993038481 ; b0=0.03212911988887171\n",
            "a1=2.545609140253464 ; b1=0.04673028182520564\n",
            "Data item no.: 45\n",
            "a0=1.8733831230590894 ; b0=0.03594297151123709\n",
            "a1=2.5347905847265304 ; b1=0.039876821787298365\n",
            "Data item no.: 46\n",
            "a0=1.8669119113323875 ; b0=0.038569238840527494\n",
            "a1=2.545728348266801 ; b1=0.033782962215728185\n",
            "Data item no.: 47\n",
            "a0=1.869134435777084 ; b0=0.04158761187078482\n",
            "a1=2.5503234527306966 ; b1=0.03362991731250575\n",
            "Data item no.: 48\n",
            "a0=1.8763180977832565 ; b0=0.04635915355581963\n",
            "a1=2.5490837182036263 ; b1=0.03816847207236611\n",
            "Data item no.: 49\n",
            "a0=1.8637451996972085 ; b0=0.042379907145262824\n",
            "a1=2.558398277647621 ; b1=0.040039540820149266\n",
            "Data item no.: 50\n",
            "a0=1.8466183676181782 ; b0=0.038978143331647605\n",
            "a1=2.5764194728352092 ; b1=0.03218685753124162\n"
          ]
        }
      ],
      "source": [
        "K = 30  # Sample size used in each iteration. Increasing K should improve the results\n",
        "for i in range(N):\n",
        "    print(f'Data item no.: {i+1}')\n",
        "\n",
        "    s_w0 = np.random.normal(a0, b0, K)\n",
        "    s_w1 = np.random.normal(a1, b1, K)\n",
        "    s_epsilon = np.random.normal(0, 1, K)\n",
        "\n",
        "    var_yi = b0**2 + b1**2 * x[i]**2 + 1\n",
        "\n",
        "    p = (norm.pdf(s_w0, a0, b0) *\n",
        "         norm.pdf(s_w1, a1, b1) *\n",
        "         norm.pdf(y[i], s_w0 + s_w1 * x[i] + s_epsilon, np.sqrt(var_yi)))\n",
        "\n",
        "    p_star = norm.pdf(s_w0, a0, b0) * norm.pdf(s_w1, a1, b1)\n",
        "    weights = p / p_star\n",
        "    sum_weights = np.sum(weights)\n",
        "\n",
        "    est_a0 = np.sum(weights * s_w0) / sum_weights\n",
        "    est_b0 = np.sum(weights * s_w0**2) / sum_weights\n",
        "    a0 = est_a0\n",
        "    b0 = np.sqrt(est_b0 - est_a0**2)\n",
        "    print(f'a0={a0} ; b0={b0}')\n",
        "\n",
        "    est_a1 = np.sum(weights * s_w1) / sum_weights\n",
        "    est_b1 = np.sum(weights * s_w1**2) / sum_weights\n",
        "    a1 = est_a1\n",
        "    b1 = np.sqrt(est_b1 - est_a1**2)\n",
        "    print(f'a1={a1} ; b1={b1}')"
      ]
    },
    {
      "cell_type": "code",
      "execution_count": null,
      "metadata": {
        "colab": {
          "base_uri": "https://localhost:8080/",
          "height": 430
        },
        "id": "lTE-xPhkQI9w",
        "outputId": "a8dec45a-b3cd-407f-90ae-efbe8339536a"
      },
      "outputs": [
        {
          "data": {
            "image/png": "[encoded data removed]",
            "text/plain": [
              "<Figure size 640x480 with 1 Axes>"
            ]
          },
          "metadata": {},
          "output_type": "display_data"
        }
      ],
      "source": [
        "# Plotting the results\n",
        "plt.scatter(x, y, color='black', s=20, label='Data') # The data\n",
        "x_vals = np.linspace(0, 3.1, 100)\n",
        "plt.plot(x_vals, 3*x_vals + 1, label='True model', color='blue') # The true model\n",
        "plt.plot(x_vals, a1 * x_vals + a0, label='I.S.', color='red') # The model obtained using I.S.\n",
        "plt.plot(x_vals, 1.25 * x_vals + 0.61, label='Initial mdoel', color='cyan') # The model after one iteration\n",
        "# A simple linear model obtained using least squares\n",
        "coeffs = np.polyfit(x, y, 1)\n",
        "plt.plot(x_vals, coeffs[0] * x_vals + coeffs[1], label='Least squares', color='green')\n",
        "\n",
        "plt.xlim(-0.1, 3.2)\n",
        "plt.ylim(-0.1, 11)\n",
        "plt.legend(loc='upper left')\n",
        "plt.show()"
      ]
    }
  ],
  "metadata": {
    "colab": {
      "provenance": []
    },
    "kernelspec": {
      "display_name": "Python 3",
      "name": "python3"
    },
    "language_info": {
      "name": "python"
    }
  },
  "nbformat": 4,
  "nbformat_minor": 0
}
